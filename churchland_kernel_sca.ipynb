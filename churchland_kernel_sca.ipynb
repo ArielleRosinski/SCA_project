{
 "cells": [
  {
   "cell_type": "code",
   "execution_count": null,
   "metadata": {},
   "outputs": [],
   "source": [
    "import numpy as np \n",
    "import jax\n",
    "import jax.numpy as jnp\n",
    "from jax import grad, random, vmap\n",
    "import optax\n",
    "import math\n",
    "import matplotlib.pyplot as plt\n",
    "from mpl_toolkits.mplot3d import Axes3D\n",
    "import imageio\n",
    "import datetime\n",
    "from linear_sca import *"
   ]
  },
  {
   "cell_type": "code",
   "execution_count": null,
   "metadata": {},
   "outputs": [],
   "source": [
    "X_init = np.load('/Users/ariellerosinski/My Drive/Cambridge/Project/datasets/churchland.npy') \n",
    "d = 3\n",
    "\n",
    "X, _ = pre_processing(X_init, center=False)\n",
    "X = jnp.array(X)\n",
    "K, N, T = X.shape\n",
    "A = jnp.swapaxes(pre_processing(X_init)[0], 0, 1)                  #(N, K, T)\n",
    "A = A.reshape(N,-1)                        #(N, K*T)\n",
    "\n",
    "def K_X_Y_diagonal(X, Y, sigma_sqrd):\n",
    "    \"\"\"For two spatial patterns X and Y, the kernel k(x_i,y_i) is equal to sum_i sigma_i^2 x_i y_i\"\"\"\n",
    "    return jnp.dot(X.T * sigma_sqrd, Y) \n",
    "\n",
    "def K_X_Y_identity(X, Y):\n",
    "    return jnp.dot(X.T, Y) \n",
    "\n",
    "K_A_X = K_X_Y_identity(A, X)                                    #(K*T, K, T)\n",
    "\n",
    "K_A_A = K_X_Y_identity(A, A)\n",
    "K_A_A_reshaped = K_A_A.reshape(K,T,K,T)                          #(K,T,K,T)\n",
    "means = jnp.mean(K_A_A_reshaped, axis=(0, 2), keepdims=True)     #(1, T, 1, T)\n",
    "K_A_A_tilde = (K_A_A_reshaped - means).reshape(K*T,K*T)          #(K*T,K*T)\n",
    "P, S, Pt = jnp.linalg.svd(K_A_A_tilde, full_matrices=False)      #P is (K*T, K*T) and S is (K*T,)"
   ]
  },
  {
   "cell_type": "code",
   "execution_count": null,
   "metadata": {},
   "outputs": [],
   "source": [
    "alpha_tilde = np.load(\"/rds/user/ar2217/hpc-work/SCA/outputs/a_linear_kernel_5000.npy\")\n",
    "\n",
    "alpha_tilde_QR, _ = jnp.linalg.qr(alpha_tilde) \n",
    "alpha = jnp.dot(P , 1/jnp.sqrt(S))[:,None] * alpha_tilde_QR\n",
    "\n",
    "alpha_reshaped = alpha.reshape(K,T,d)                                           #(K, T, d)\n",
    "mean = jnp.mean(alpha_reshaped, axis=(0), keepdims=True)                        #(1, T, d)\n",
    "optimized_alpha_H = (alpha_reshaped - mean).reshape(K*T,d)                      #(K*T,d)\n",
    "projection = jnp.einsum('ij,imk->mjk', optimized_alpha_H, K_A_X)                #(K*T,d) @ (K*T, K, T) --> (K, d, T)\n",
    "\n",
    "\n",
    "plot_3D(projection)"
   ]
  }
 ],
 "metadata": {
  "kernelspec": {
   "display_name": "Python 3",
   "language": "python",
   "name": "python3"
  },
  "language_info": {
   "codemirror_mode": {
    "name": "ipython",
    "version": 3
   },
   "file_extension": ".py",
   "mimetype": "text/x-python",
   "name": "python",
   "nbconvert_exporter": "python",
   "pygments_lexer": "ipython3",
   "version": "3.11.9"
  }
 },
 "nbformat": 4,
 "nbformat_minor": 2
}
